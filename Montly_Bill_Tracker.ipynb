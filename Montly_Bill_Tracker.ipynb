{
  "nbformat": 4,
  "nbformat_minor": 0,
  "metadata": {
    "colab": {
      "provenance": []
    },
    "kernelspec": {
      "name": "python3",
      "display_name": "Python 3"
    },
    "language_info": {
      "name": "python"
    }
  },
  "cells": [
    {
      "cell_type": "code",
      "source": [
        "import pandas as pd\n",
        "import plotly.express as px\n"
      ],
      "metadata": {
        "id": "9RAjm6Hhev_k"
      },
      "execution_count": 97,
      "outputs": []
    },
    {
      "cell_type": "code",
      "source": [
        "df = pd.read_csv('Bills.csv')\n",
        "\n",
        "def sort_by_biller(biller):\n",
        "  x = df[df[\"Biller\"] == biller]\n",
        "  print(x)\n",
        "\n",
        "def sort_by_month(month):\n",
        "  x = df[df[\"Month\"] == month]\n",
        "  print(x)\n",
        "\n",
        "def show_bill_chart(biller, col='Price'):\n",
        "  x = df[df[\"Biller\"] == biller]\n",
        "  fig = px.bar(x, x=\"Month\", y=col, color='Biller', title=f\"Summary for {biller}\")\n",
        "  fig.show()\n",
        "\n",
        "def show_monthly_expenses():\n",
        "  fig = px.bar(df, x=\"Month\", y=\"Price\", color='Biller', title=f\"Total Monthly Expenses\")\n",
        "  fig.show()\n",
        "\n",
        "def show_monthly_allocation(month, col='Price'):\n",
        "  x = df[df[\"Month\"] == month]\n",
        "  fig = px.pie(x, values=col, names='Biller', title=f\"Monthly Budget Allocation for {month}\")\n",
        "  fig.show()"
      ],
      "metadata": {
        "id": "3-lhl-PaekeX"
      },
      "execution_count": 135,
      "outputs": []
    },
    {
      "cell_type": "code",
      "source": [
        "biller_list = (df[\"Biller\"].unique())\n",
        "month_list = (df[\"Month\"].unique())\n",
        "\n",
        "'''\n",
        "SORT BY BILLER\n",
        "Shows you the summary for specified biller. Parameter is just the biller's name\n",
        "'''\n",
        "for i in range(len(biller_list) - 1):\n",
        "  sort_by_biller(biller_list[i])\n",
        "  print('')\n",
        "\n",
        "'''\n",
        "SORT BY MONTH\n",
        "Shows you the summary for month. Parameter is just the month, format is Mon-YR (ex. January 2023 is Jan-23)\n",
        "'''\n",
        "for i in range(len(month_list) - 1):\n",
        "  sort_by_month(month_list[i])\n",
        "  print('')\n",
        "\n",
        "'''\n",
        "SHOW BILL CHART\n",
        "Shows you a bar chart per month for certain biller. Parameters are the biller and certain column, price is default\n",
        "'''\n",
        "for i in range(len(biller_list) - 1):\n",
        "  show_bill_chart(biller_list[i])\n",
        "  print('')\n",
        "\n",
        "'''\n",
        "SHOW MONTHLY EXPENSES\n",
        "Shows you a bar chart for total monthly expense. Takes no parameters.\n",
        "'''\n",
        "show_monthly_expenses()\n",
        "\n",
        "'''\n",
        "SHOW MONTHLY ALLOCATION\n",
        "Shows you a pie chart for how much do you spend on certain biller. Parameters are the month and certain column, price is default\n",
        "'''\n",
        "for i in range(len(month_list) - 1):\n",
        "  show_monthly_allocation(month_list[i])\n",
        "  print('')\n"
      ],
      "metadata": {
        "id": "-MtXoQAdehSx"
      },
      "execution_count": null,
      "outputs": []
    }
  ]
}